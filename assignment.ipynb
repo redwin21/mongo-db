{
 "cells": [
  {
   "cell_type": "markdown",
   "metadata": {},
   "source": [
    "# MongoDB\n",
    "MongoDB is a popular noSQL database.  It's loose structure makes it well suited for capturing unstructured data, such as that encountered in web scraping.  This sprint will focus on getting up and running with this system.  This is intended to be an individual sprint.\n",
    "\n",
    "\n",
    "### Using Mongo with Docker\n",
    "It is highly recommended you get used to using Docker.  See [Using Mongo with Docker](using_mongo_with_docker.md) for detailed instructions.  If you want install MongoDB see instructions at the end of the assignment.  Again this is not recommended. \n",
    "\n",
    "\n",
    "## Practicing Mongo Queries \n",
    "\n",
    "To get familiar with MongoDB, we are going to load in some click-log data from \n",
    "a government website and do some basic queries on it. Write your queries in a \n",
    "text file. Paste and run the queries in the Mongo shell.\n",
    "\n",
    "1. Open a ***bash terminal in Docker***, navigate to the directory containing the data in Docker and load in the data with (for more detailed directions [see here](using_mongo_with_docker.md))    \n",
    "   `mongoimport --db clicks --collection log < click_log.json`"
   ]
  },
  {
   "cell_type": "code",
   "execution_count": null,
   "metadata": {},
   "outputs": [],
   "source": []
  },
  {
   "cell_type": "markdown",
   "metadata": {},
   "source": [
    "2. **In the Mongo shell on Docker**, run `show dbs;` to make sure the `clicks` database has \n",
    "   been created. Run `use clicks;` to use the `clicks` database for your \n",
    "   queries."
   ]
  },
  {
   "cell_type": "code",
   "execution_count": null,
   "metadata": {},
   "outputs": [],
   "source": []
  },
  {
   "cell_type": "markdown",
   "metadata": {},
   "source": [
    "3. Inspect the `log` collection in your database. How many entries are in the \n",
    "   `log` collection? \n",
    "   \n",
    "   If you are not sure about what command to use, you can access the help \n",
    "   section by:\n",
    "    - `help`\n",
    "    - `db.help()`\n",
    "    - `db.<collection_name>.help()`\n",
    "\n",
    "   Mongo also has tab complete, so you can tab complete some of your commands \n",
    "   for convenience.  "
   ]
  },
  {
   "cell_type": "markdown",
   "metadata": {},
   "source": [
    "```db.log.dataSize()\n",
    "db.help() # for general help\n",
    "db.log.help() # for commands in collection```"
   ]
  },
  {
   "cell_type": "markdown",
   "metadata": {},
   "source": [
    "4. Print out all of the clicks you have stored using `.find()`. Now using \n",
    "   `.limit()`, return 10 entries. You can also use `.findOne()` to quickly \n",
    "   view the first row and examine the available columns.  "
   ]
  },
  {
   "cell_type": "markdown",
   "metadata": {},
   "source": [
    "```db.log.find.limit(10)\n",
    "db.log.findOne()```"
   ]
  },
  {
   "cell_type": "markdown",
   "metadata": {},
   "source": [
    "5. Use `.find()` to find all the clicks where `cy` (city) is `San Francisco`. \n",
    "   How many are there?"
   ]
  },
  {
   "cell_type": "markdown",
   "metadata": {},
   "source": [
    "```db.log.find({'cy':'San Francisco'})```"
   ]
  },
  {
   "cell_type": "markdown",
   "metadata": {},
   "source": [
    "6. Use `.distinct()` to find all the distinct types of web browsers (under the \n",
    "   field `a`) people use to visit the sites. Count the the number of distinct web \n",
    "   browsers (use `.length` on your distinct list). "
   ]
  },
  {
   "cell_type": "markdown",
   "metadata": {},
   "source": [
    "```db.log.distinct('a').length```"
   ]
  },
  {
   "cell_type": "markdown",
   "metadata": {},
   "source": [
    "7. Select and count the records where the users have visited a website either \n",
    "   from a `Mozilla` or an `Opera` web browser. Search the `a` field using \n",
    "   [regex in mongo][mongo-like-query]. "
   ]
  },
  {
   "cell_type": "markdown",
   "metadata": {},
   "source": [
    "```db.log.find({$or: [{'a': /Mozilla/}, {'a': /Opera/}]}).count()```"
   ]
  },
  {
   "cell_type": "markdown",
   "metadata": {},
   "source": [
    "8. Find the type of the `t` (timestamp) field. You can access the type of a \n",
    "   field in an entry by using `typeof db.log.findOne({'t': {$exists: true}}).t`. \n",
    "   The field should be a `number` now.\n",
    "   \n",
    "   Convert the timestamp field to the date type. You will need to multiply the \n",
    "   number by 1000 and then make it a `Date` object (you can create a `Date` \n",
    "   object by using `new Date()`). You can loop over each record using \n",
    "   `.forEach()` and then [`.update()`][mongo-update] the record (using the `_id`\n",
    "   field) with the created `Date` object. When you're done, confirm that the \n",
    "   data type has been converted. Below is some template code. \n",
    "\n",
    "   ```javascript\n",
    "   db.log.find({'t': {$exists: true}}).forEach(function(entry) {\n",
    "      // your code to update an entry by _id and set the t field as a new \n",
    "      //  Date() object\n",
    "   })\n",
    "   ```"
   ]
  },
  {
   "cell_type": "markdown",
   "metadata": {},
   "source": [
    "```db.log.find({'t': {$exists: true}}).forEach(function(entry){\n",
    "    var newt = new Date(entry.t*1000);\n",
    "    db.log.update({'_id': entry._id}, {$set:{'t':newt}})\n",
    "})```"
   ]
  },
  {
   "cell_type": "markdown",
   "metadata": {},
   "source": [
    "   \n",
    "9. Sort the clicks by the timestamp and find when the first click occurred. \n",
    "   How many clicks occurred in the first hour? To answer this, assign the \n",
    "   earliest timestamp and timestamp at the one-hour bound to separate variables\n",
    "   before writing the query."
   ]
  },
  {
   "cell_type": "code",
   "execution_count": null,
   "metadata": {},
   "outputs": [],
   "source": []
  },
  {
   "cell_type": "markdown",
   "metadata": {},
   "source": [
    "10. Using Mongo's [aggregation][mongo-aggregation] functionality, can you find \n",
    "    what the most popular link clicked is? You will need to use `$group`, \n",
    "    `$sum`, and `$sort`."
   ]
  },
  {
   "cell_type": "code",
   "execution_count": null,
   "metadata": {},
   "outputs": [],
   "source": []
  },
  {
   "cell_type": "markdown",
   "metadata": {},
   "source": [
    "## AWS MongoDB Installation\n",
    "You should already have a local Mongo docker container.  Let's practice our AWS skills by spinning up a micro instance and practice installing on a remote machine.\n",
    "\n",
    "1. To install MongoDB, use your operating system's package manager:\n",
    "   - Ubuntu Linux: `sudo apt-get install mongodb`\n",
    "\n",
    "2. Much like Postgres, you will need to launch the server before using Mongo for the first time. \n",
    "\n",
    "   - Ubuntu Linux: `sudo /etc/init.d/mongodb start` \n",
    "\n",
    "3. Check your installation by opening the MongoDB Client:\n",
    "\n",
    "   - Open a new terminal and type `mongo` to open up a Mongo shell\n",
    "   - Type `show dbs;` to show the databases you have\n",
    "   - You can exit by typing `exit`\n",
    "\n",
    "4. Resources and quick references to Mongo commands:\n",
    "\n",
    "   - [MongoDB Cheatsheet][mongo-cheatsheet]\n",
    "   - [Mongo Docs][mongo-docs]\n",
    "   - [MongoDB Reference Cards][mongo-ref-cards]\n",
    "\n",
    "\n",
    "\n",
    "## Extra Credit\n",
    "\n",
    "MongoDB actually has some [geospatial][mongo-geospatial] facilities (don't \n",
    "worry, PostGreSQL has [even better](http://postgis.net/) ones). Using the \n",
    "geoindices and Mongo queries, find the following:\n",
    "\n",
    "1. All clicks within 50 miles of San Francisco\n",
    "2. All clicks that came from [New England][New-England]\n",
    "\n",
    "#### CartoDB\n",
    "\n",
    "[CartoDB](http://cartodb.com/) happens to be one of my favorite tools for \n",
    "geospatial analysis (with built in PostGIS querying). Map the clicks across \n",
    "the globe.  Visualize clicks over time with a [torque map][torque-map].\n",
    "\n",
    "### Additional GUI clients\n",
    "\n",
    "Here are some additional GUI clients if you so want to try (my favorite is RoboMongo):\n",
    "- [Robomongo (Multiplatform)](http://robomongo.org/)\n",
    "- [MongoHub (Mac OSX)](https://github.com/fotonauts/MongoHub-Mac) \n",
    "   with down-loadable [binary](https://mongohub.s3.amazonaws.com/MongoHub.zip)\n",
    "- [Humongous (web based)](https://github.com/bagwanpankaj/humongous)\n",
    "\n",
    "[mongo-download]:http://www.mongodb.org/downloads?_ga=1.2370361.886345798.1422741448\n",
    "[mongo-install]:https://docs.mongodb.org/master/tutorial/install-mongodb-on-os-x/\n",
    "[mongo-cheatsheet]:https://blog.codecentric.de/files/2012/12/MongoDB-CheatSheet-v1_0.pdf\n",
    "[mongo-docs]:http://docs.mongodb.org/v2.2/mongo/\n",
    "[mongo-ref-cards]:http://semantic.supelec.fr/BigData/downloads/MongoDB-ReferenceCards15.pdf\n",
    "[mongo-like-query]:http://stackoverflow.com/questions/3305561/how-to-query-mongodb-with-like\n",
    "[mongo-update]:http://docs.mongodb.org/manual/reference/operator/update/set/\n",
    "[mongo-aggregation]:http://docs.mongodb.org/manual/reference/sql-aggregation-comparison/\n",
    "[mongo-geospatial]:http://docs.mongodb.org/manual/administration/indexes-geo/ \n",
    "[New-England]:http://en.wikipedia.org/wiki/New_England\n",
    "[torque-map]:http://blog.cartodb.com/post/66687861735/torque-is-live-try-it-on-your-cartodb-maps-today\n",
    "\n",
    "\n",
    "### Mac Install (Optional)\n",
    "You don't need to install locally, however, if you prefer not to use Docker here are the Mac steps.\n",
    "1. Install Mongo:\n",
    "   - Mac OS X: `brew install mongodb`\n",
    "\n",
    "2. Launch the server (note, you'll want to not have Docker running):\n",
    "   - Mac OS X: `brew services start mongodb`"
   ]
  },
  {
   "cell_type": "code",
   "execution_count": null,
   "metadata": {},
   "outputs": [],
   "source": []
  }
 ],
 "metadata": {
  "kernelspec": {
   "display_name": "Python (gal)",
   "language": "python",
   "name": "gal"
  },
  "language_info": {
   "codemirror_mode": {
    "name": "ipython",
    "version": 3
   },
   "file_extension": ".py",
   "mimetype": "text/x-python",
   "name": "python",
   "nbconvert_exporter": "python",
   "pygments_lexer": "ipython3",
   "version": "3.8.1"
  }
 },
 "nbformat": 4,
 "nbformat_minor": 4
}
